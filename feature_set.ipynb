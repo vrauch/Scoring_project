{
 "cells": [
  {
   "cell_type": "code",
   "execution_count": null,
   "id": "1af893ad73a712aa",
   "metadata": {
    "collapsed": false
   },
   "outputs": [],
   "source": [
    "import openai\n",
    "import os\n",
    "import openpyxl\n",
    "import re"
   ]
  },
  {
   "cell_type": "code",
   "execution_count": null,
   "id": "9561557a",
   "metadata": {},
   "outputs": [],
   "source": [
    "path = os.getenv('FILE_PATH')\n",
    "print(path)\n",
    "os.chdir(path)  # Change to your own path"
   ]
  },
  {
   "cell_type": "code",
   "execution_count": null,
   "id": "74d0a8a1653b4a94",
   "metadata": {
    "collapsed": false
   },
   "outputs": [],
   "source": [
    "# Set OpenAI API key\n",
    "openai.api_key = os.getenv('OPENAI_API_KEY')\n",
    "print(openai.api_key)"
   ]
  },
  {
   "cell_type": "code",
   "outputs": [],
   "source": [
    "wb = openpyxl.load_workbook('feature_set.xlsx', data_only=True)     # Open Excel file\n",
    "features = 'features'\n",
    "s1 = wb[features]        # Get the worksheet content"
   ],
   "metadata": {},
   "id": "e828b3d2",
   "execution_count": null
  },
  {
   "cell_type": "code",
   "execution_count": null,
   "id": "ac98811164c2f2a",
   "metadata": {
    "collapsed": false
   },
   "outputs": [],
   "source": [
    "# Find out all keywords of the criteria\n",
    "def criteria_keywords(criteria):\n",
    "    response = openai.completions.create(\n",
    "      model=\"gpt-3.5-turbo-instruct\",\n",
    "      prompt=f\"Define key ideas from the following: {criteria}+ DO NOT NUMBER THE OUTPUT\",\n",
    "      max_tokens=100,\n",
    "      temperature=0,\n",
    "      top_p=1,\n",
    "      frequency_penalty=2,\n",
    "      presence_penalty=0\n",
    "    )\n",
    "    \n",
    "    return response.choices[0].text.strip()"
   ]
  },
  {
   "cell_type": "code",
   "outputs": [],
   "source": [
    "# function to clean data before processing\n",
    "def cleaner(data):\n",
    "    cleaned = []\n",
    "    for item in data:\n",
    "        if isinstance(item, list):  # if item is a list, join its elements as a string\n",
    "            str_item = '; '.join(map(str, item))\n",
    "        else:\n",
    "            str_item = str(item)\n",
    "        str_item = str_item.replace('[', '').replace(']', '').replace('\"', '').replace('\\n', ' ').replace('(blank), ','').replace('_', '').replace('- ','').replace('. ,','. ').replace('.,','. ')\n",
    "        str_item = re.sub(r'\\b\\d+\\.\\s*', '', str_item)\n",
    "        str_item = re.sub(r'(.)\\1+', r'\\1', str_item)\n",
    "        str_item = str_item.strip()\n",
    "        cleaned.append(str_item)\n",
    "    return cleaned"
   ],
   "metadata": {
    "collapsed": false
   },
   "id": "4bc4d38ff82c073",
   "execution_count": null
  },
  {
   "cell_type": "code",
   "outputs": [],
   "source": [
    "# Store all domains in an array\n",
    "s1_domain_Id_read = s1.iter_rows(max_col=1)\n",
    "domain_read = []\n",
    "for row in s1_domain_Id_read:\n",
    "    tmp = []\n",
    "    for column in row:\n",
    "        tmp.append(column.value)\n",
    "    domain_read.append(tmp)\n",
    "#print(domain_read)"
   ],
   "metadata": {
    "collapsed": false
   },
   "id": "3808356683f45f86",
   "execution_count": null
  },
  {
   "cell_type": "code",
   "outputs": [],
   "source": [
    "# Store all criteria in an array\n",
    "s1_criteria_read = s1.iter_rows(min_col=2, max_col=2)\n",
    "criteria_read = []\n",
    "for row in s1_criteria_read:\n",
    "    tmp = []\n",
    "    for column in row:\n",
    "        tmp.append(column.value)\n",
    "    criteria_read.append(tmp)\n",
    "#print (criteria_read)"
   ],
   "metadata": {},
   "id": "c3c7a6aa",
   "execution_count": null
  },
  {
   "cell_type": "code",
   "execution_count": null,
   "id": "24b77781",
   "metadata": {},
   "outputs": [],
   "source": [
    "# Develop assessment criteria from expectation for capability\n",
    "keywords_array = []\n",
    "for criteria in criteria_read:\n",
    "    criteria_string = ' '.join(map(str, criteria))  # convert list to string\n",
    "    if len(criteria_string.split()) <= 4096:  # GPT-3's maximum limit is 4096 tokens\n",
    "        features = criteria_keywords(criteria_string)\n",
    "        #print(features)\n",
    "        keywords_array.append(features)\n",
    "    else:\n",
    "        print(f\"Criteria is too long with {len(criteria_string.split())} tokens. Skipping.\")\n"
   ]
  },
  {
   "cell_type": "code",
   "outputs": [],
   "source": [
    "clean_features = cleaner(keywords_array)\n",
    "result = [[] for _ in range(len(domain_read)+1)]\n",
    "\n",
    "result[0].append(\"Domain_ID\")\n",
    "result[0].append(\"Features\")\n",
    "for i in range(len(domain_read)):\n",
    "    result[i + 1].append(str(domain_read[i][0]))  # Convert to string before appending\n",
    "    result[i + 1].append(str(clean_features[i])) # appends cleaned string\n",
    "print(result)"
   ],
   "metadata": {},
   "id": "fb162d63",
   "execution_count": null
  },
  {
   "cell_type": "code",
   "execution_count": null,
   "id": "7e46f6d7",
   "metadata": {},
   "outputs": [],
   "source": [
    "wb = openpyxl.Workbook()\n",
    "sheet = wb.active\n",
    "\n",
    "for i in range(len(result)):\n",
    "    for j in range(len(result[i])):\n",
    "        sheet.cell(row=i + 1, column=j + 1).value = result[i][j]\n",
    "\n",
    "wb.save('output.xlsx')"
   ]
  },
  {
   "cell_type": "code",
   "outputs": [],
   "source": [],
   "metadata": {
    "collapsed": false
   },
   "id": "a0b47c809f2442e0",
   "execution_count": null
  }
 ],
 "metadata": {
  "kernelspec": {
   "display_name": "Python 3 (ipykernel)",
   "language": "python",
   "name": "python3"
  },
  "language_info": {
   "codemirror_mode": {
    "name": "ipython",
    "version": 3
   },
   "file_extension": ".py",
   "mimetype": "text/x-python",
   "name": "python",
   "nbconvert_exporter": "python",
   "pygments_lexer": "ipython3",
   "version": "3.9.13"
  }
 },
 "nbformat": 4,
 "nbformat_minor": 5
}
