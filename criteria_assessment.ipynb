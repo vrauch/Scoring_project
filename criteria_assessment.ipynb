{
 "cells": [
  {
   "cell_type": "raw",
   "source": [
    "import pandas as pd\n",
    "import os\n",
    "from transformers import AutoTokenizer, AutoModel\n",
    "import analysis_modules\n",
    "import nltk\n",
    "nltk.download('punkt')\n",
    "nltk.download('stopwords')\n",
    "\n",
    "path = os.getenv('FILE_PATH')\n",
    "os.chdir(path)\n",
    "\n",
    "df = pd.read_excel('response_test.xlsx', sheet_name=\"S&G\")\n",
    "df['Criteria'] = df['Criteria'].apply(analysis_modules.clean_and_normalize_text)\n",
    "df['Text'] = df['Text'].apply(analysis_modules.clean_and_normalize_text)\n",
    "df['Criteria'] = df['Criteria'].apply(analysis_modules.to_sentence_case)\n",
    "df['Text'] = df['Text'].apply(analysis_modules.to_sentence_case)\n",
    "df['Semantic Similarity Score'] = float('nan')\n",
    "\n",
    "model_name = \"sentence-transformers/all-MiniLM-L6-v2\"\n",
    "tokenizer = AutoTokenizer.from_pretrained(model_name)\n",
    "model = AutoModel.from_pretrained(model_name)\n",
    "\n",
    "results = []\n",
    "similarity_scores = []\n",
    "\n",
    "for _, row in df.iterrows():\n",
    "    capability = row[\"Capability\"]\n",
    "    criteria = row['Criteria']\n",
    "    assessment = row['Text']\n",
    "    score = row['Semantic Similarity Score']\n",
    "    prompt = f\"\"\"You are trained to analyze and determine the alignment strength between a given criteria and \n",
    "    text. If you are unsure of an answer, you can say \"not sure\" and recommend the user review manually. \n",
    "    Given the criteria and text provided below, evaluate the alignment between the two. Please analyze the alignment \n",
    "    between the following criteria and text. Summarize the alignment strength as either weak, moderate, or strong, and \n",
    "    provide a brief justification for this assessment in one or two sentences. The response should naturally incorporate \n",
    "    both the evaluation of alignment strength and the reasoning behind it.\n",
    "    Criteria: {criteria}\n",
    "    Text: {assessment}\"\"\"\n",
    "    \n",
    "    strength = analysis_modules.ia_analysis(prompt, capability, assessment, criteria)\n",
    "    strength_c = analysis_modules.to_sentence_case(strength)\n",
    "    similarity = analysis_modules.compute_cosine_similarity(criteria, assessment, tokenizer, model)\n",
    "    similarity = round(similarity,2)\n",
    "    similarity_scores.append(similarity)\n",
    "        \n",
    "    results.append([capability,criteria, assessment, strength_c, similarity])\n",
    "\n",
    "results = [[*res[:3], str(res[3])] for res in results] \n",
    "single_summary = ' '.join(res[3] for res in results)\n",
    "assessment = analysis_modules.summarize_paragraph(single_summary)\n",
    "average_similarity = round(sum(similarity_scores) / len(similarity_scores), 2) if similarity_scores else 0\n",
    "\n",
    "print(results)\n",
    "\n",
    "output_df = pd.DataFrame(results, columns=['Capability', 'Criteria','Response', 'Alignment Strength', 'Semantic Similarity Score'])\n",
    "output_df.to_csv('alignment_results.csv', index=False)\n",
    "domain_summary = pd.DataFrame({\"Assessment\":[assessment], \"Score\": [average_similarity]})\n",
    "domain_summary.to_csv('domain_summary.csv', index=False)"
   ],
   "metadata": {
    "collapsed": false
   },
   "id": "c6db851418fd4653"
  },
  {
   "metadata": {},
   "cell_type": "code",
   "outputs": [],
   "execution_count": null,
   "source": "",
   "id": "ff792937e10e83e2"
  },
  {
   "metadata": {},
   "cell_type": "markdown",
   "source": "",
   "id": "83cb31298853f931"
  }
 ],
 "metadata": {
  "kernelspec": {
   "display_name": "Python 3",
   "language": "python",
   "name": "python3"
  },
  "language_info": {
   "codemirror_mode": {
    "name": "ipython",
    "version": 2
   },
   "file_extension": ".py",
   "mimetype": "text/x-python",
   "name": "python",
   "nbconvert_exporter": "python",
   "pygments_lexer": "ipython2",
   "version": "2.7.6"
  }
 },
 "nbformat": 4,
 "nbformat_minor": 5
}
