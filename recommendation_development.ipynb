{
 "cells": [
  {
   "cell_type": "code",
   "outputs": [],
   "source": [
    "import pandas as pd\n",
    "import os\n",
    "import openai\n",
    "from openai import OpenAI\n"
   ],
   "metadata": {
    "collapsed": false
   },
   "id": "b8e25b5688a53aba"
  },
  {
   "cell_type": "code",
   "outputs": [],
   "source": [
    "path = os.getenv('FILE_PATH')\n",
    "os.chdir(path) \n",
    "# Set your OpenAI API key (replace with your actual key)\n",
    "openai.api_key = os.getenv('OPENAI_API_KEY')\n",
    "# Initialize the OpenAI client\n",
    "client = OpenAI(api_key=openai.api_key)"
   ],
   "metadata": {
    "collapsed": false
   },
   "id": "b6da5fea15cecb0d"
  },
  {
   "cell_type": "code",
   "outputs": [],
   "source": [
    "def analyze_alignment(capability, assessment, criteria):\n",
    "    # Create a prompt for the model\n",
    "    prompt1 = f\"\"\"You are a trained analyst who is an expert in identifying opportunities and recommendations given a base assessment and a set of next level criteria. Based on the Level 1 Assessment, {assessment} and subsequent Level 2 Criteria, {criteria}, identify 3 key opportunities for improvement, recommendations to realize the opportunities and the benefits of implementing the recommendations. For each the 3 identified Opportunities, the output should be basic text that includes only the following: Capability, Opportunity, Recommendation, Benefit. No numbering or other narrative or explanation is needed in the output. Please follow these instructions explicitly  \"\"\"\n",
    "    \n",
    "# Call the OpenAI API to generate a response\n",
    "    response = client.chat.completions.create(\n",
    "        model=\"gpt-3.5-turbo\",\n",
    "        messages=[\n",
    "            {\"role\": \"system\", \"content\": \"You are a good assistant\"},\n",
    "            {\"role\": \"user\", \"content\": prompt1},\n",
    "        ],\n",
    "        max_tokens=500,\n",
    "        temperature=0\n",
    "    )\n",
    "    #print(prompt)\n",
    "    #print(response.choices[0].message)\n",
    "    alignment_strength = response.choices[0].message.content.strip().lower()\n",
    "    return alignment_strength"
   ],
   "metadata": {
    "collapsed": false
   },
   "id": "6be50835a2e086d8"
  },
  {
   "cell_type": "code",
   "outputs": [],
   "source": [
    "# Load your spreadsheet data into a pandas DataFrame\n",
    "df = pd.read_excel('recommendation_input.xlsx')\n",
    "df['Capability'] = df['Capability']\n",
    "df['Assessment'] = df['Assessment']\n",
    "df['Criteria'] = df['Criteria']\n",
    "#df['Benefit'] = ''\n",
    "#print(df)"
   ],
   "metadata": {
    "collapsed": false
   },
   "id": "482f6e92fcc74429"
  },
  {
   "cell_type": "code",
   "outputs": [],
   "source": [
    "#Iterate over each Criteria in the DataFrame and perform analysis\n",
    "results = []\n",
    "for _, row in df.iterrows():\n",
    "    capability = row['Capability']\n",
    "    assessment = row[\"Assessment\"]\n",
    "    criteria = row['Criteria']\n",
    "    recommend = analyze_alignment(capability, assessment, criteria)\n",
    "\n",
    "    recommendations = recommend.split(\"\\n\\n\")\n",
    "\n",
    "    for recommendation in recommendations:\n",
    "        # Replace labels and split parts by '\\n'\n",
    "        print(recommendation)\n",
    "        parts = recommendation.replace(\n",
    "            'capability:', '').replace(\n",
    "            'opportunity:', '').replace(\n",
    "            'recommendation:', '').replace(\n",
    "            'benefit:', '').split(\n",
    "            '\\n')\n",
    "\n",
    "        # Remove leading/trailing spaces\n",
    "        parts = [part.strip() for part in parts if part]  # also ignore empty parts\n",
    "        #print(parts)\n",
    "\n",
    "        if len(parts) >= 3:\n",
    "            opportunity, rec, benefit = parts[:3]  # assigning split parts to opportunity, rec, and benefit\n",
    "            results.append([capability, opportunity, rec, benefit])"
   ],
   "metadata": {
    "collapsed": false
   },
   "id": "52d45546484efad0"
  },
  {
   "cell_type": "code",
   "outputs": [],
   "source": [
    "print(results)"
   ],
   "metadata": {
    "collapsed": false
   },
   "id": "d96dd9c96681817e"
  },
  {
   "cell_type": "code",
   "outputs": [],
   "source": [
    "output_df = pd.DataFrame(results, columns=['Capability', 'Opportunity', 'Recommendation', 'Benefit'])\n",
    "output_df.to_csv('recommendations.csv', index=False)\n",
    "#output_df.to_csv('recommendations.csv', index=False)\n",
    "#domain_summary = pd.DataFrame({\"Assessment\":[assessment], \"Score\": [average_similarity]})\n",
    "#domain_summary.to_csv('domain_summary.csv', index=False)"
   ],
   "metadata": {
    "collapsed": false
   },
   "id": "6cac90398d643e9e"
  }
 ],
 "metadata": {
  "kernelspec": {
   "display_name": "Python 3",
   "language": "python",
   "name": "python3"
  },
  "language_info": {
   "codemirror_mode": {
    "name": "ipython",
    "version": 2
   },
   "file_extension": ".py",
   "mimetype": "text/x-python",
   "name": "python",
   "nbconvert_exporter": "python",
   "pygments_lexer": "ipython2",
   "version": "2.7.6"
  }
 },
 "nbformat": 4,
 "nbformat_minor": 5
}
