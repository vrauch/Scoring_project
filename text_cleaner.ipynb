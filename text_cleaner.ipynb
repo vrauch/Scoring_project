{
 "cells": [
  {
   "cell_type": "code",
   "execution_count": 7,
   "id": "initial_id",
   "metadata": {
    "collapsed": true,
    "ExecuteTime": {
     "end_time": "2024-03-25T07:17:30.758117Z",
     "start_time": "2024-03-25T07:17:30.753402Z"
    }
   },
   "outputs": [
    {
     "name": "stdout",
     "output_type": "stream",
     "text": [
      "Original text:  Working with HPE consultants//By cooperating with HPE, consultants will help organizations introduce cloud technology; learn about peers' cloud progress through news media, and then learn and find relevant information on their own./////Participate in relevant education and training///View related articles///////Seminars and related courses attended/Work with consultants and receive training from learning institutions///////\n",
      "Formatted text: working with hpe consultantsby cooperating with hpe, consultants will help organizations introduce cloud technology; learn about peers' cloud progress through news media, and then learn and find relevant information on their own.participate in relevant education and trainingview related articlesseminars and related courses attendedwork with consultants and receive training from learning institutions\n"
     ]
    }
   ],
   "source": [
    "import re\n",
    "\n",
    "def clean_and_normalize_text(text):\n",
    "    # Remove leading and trailing whitespace\n",
    "    cleaned_text = text.strip()\n",
    "    # Convert to lowercase\n",
    "    cleaned_text = cleaned_text.lower()\n",
    "    # Explicitly remove all forward slashes\n",
    "    cleaned_text = re.sub(r'/', '', cleaned_text)  # Simplified regex for clarity\n",
    "    # Remove paragraph marks (new lines) and soft line breaks without replacing them with space\n",
    "    cleaned_text = re.sub(r'[\\n\\r]+', '', cleaned_text)\n",
    "    # Remove extra spaces and tabs\n",
    "    cleaned_text = re.sub(r'\\s+', ' ', cleaned_text)\n",
    "    \n",
    "    return cleaned_text\n",
    "\n",
    "# Example usage:\n",
    "unformatted_text = (\" Working with HPE consultants//By cooperating \"\n",
    "                    \"with HPE, consultants will help organizations introduce cloud technology; learn about peers' cloud progress through news media, and then learn and find relevant \"\n",
    "                    \"information on their own./////Participate in relevant education and training///View related articles///////Seminars and related courses attended/Work with consultants and receive training from learning institutions///////\")\n",
    "formatted_text = clean_and_normalize_text(unformatted_text)\n",
    "print(\"Original text:\", unformatted_text)\n",
    "print(\"Formatted text:\", formatted_text)"
   ]
  },
  {
   "cell_type": "code",
   "outputs": [],
   "source": [],
   "metadata": {
    "collapsed": false,
    "ExecuteTime": {
     "end_time": "2024-03-25T07:07:02.755403Z",
     "start_time": "2024-03-25T07:07:02.753676Z"
    }
   },
   "id": "5f16d72539f9cf20",
   "execution_count": 4
  },
  {
   "cell_type": "code",
   "outputs": [],
   "source": [],
   "metadata": {
    "collapsed": false
   },
   "id": "aaa4aeb9c118c506"
  }
 ],
 "metadata": {
  "kernelspec": {
   "display_name": "Python 3",
   "language": "python",
   "name": "python3"
  },
  "language_info": {
   "codemirror_mode": {
    "name": "ipython",
    "version": 2
   },
   "file_extension": ".py",
   "mimetype": "text/x-python",
   "name": "python",
   "nbconvert_exporter": "python",
   "pygments_lexer": "ipython2",
   "version": "2.7.6"
  }
 },
 "nbformat": 4,
 "nbformat_minor": 5
}
